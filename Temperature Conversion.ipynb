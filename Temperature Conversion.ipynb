{
 "cells": [
  {
   "cell_type": "code",
   "execution_count": 1,
   "id": "84851397",
   "metadata": {},
   "outputs": [],
   "source": [
    "from pyspark.sql import SparkSession\n",
    "spark = (SparkSession.builder.appName(\"TempConversion\").getOrCreate())"
   ]
  },
  {
   "cell_type": "code",
   "execution_count": 8,
   "id": "8acec98e",
   "metadata": {},
   "outputs": [],
   "source": [
    "temperature_list = [59, 57.2, 53.6, 55.4, 51.8, 53.6, 55.4]"
   ]
  },
  {
   "cell_type": "code",
   "execution_count": 9,
   "id": "42c9f2f2",
   "metadata": {},
   "outputs": [],
   "source": [
    "temperature_rdd = spark.sparkContext.parallelize(temperature_list)"
   ]
  },
  {
   "cell_type": "code",
   "execution_count": 10,
   "id": "7ed2da0c",
   "metadata": {},
   "outputs": [],
   "source": [
    "temperature_data = temperature_rdd.collect()"
   ]
  },
  {
   "cell_type": "code",
   "execution_count": 11,
   "id": "0ed4797a",
   "metadata": {},
   "outputs": [],
   "source": [
    "def tempToCelcius(x):\n",
    "    celci = (x-32) * (5/9)\n",
    "    return celci"
   ]
  },
  {
   "cell_type": "code",
   "execution_count": 12,
   "id": "e47604ad",
   "metadata": {},
   "outputs": [
    {
     "data": {
      "text/plain": [
       "15.0"
      ]
     },
     "execution_count": 12,
     "metadata": {},
     "output_type": "execute_result"
    }
   ],
   "source": [
    "tempToCelcius(59)"
   ]
  },
  {
   "cell_type": "code",
   "execution_count": 13,
   "id": "d60ea61a",
   "metadata": {},
   "outputs": [
    {
     "data": {
      "text/plain": [
       "[15.0,\n",
       " 14.000000000000002,\n",
       " 12.000000000000002,\n",
       " 13.0,\n",
       " 10.999999999999998,\n",
       " 12.000000000000002,\n",
       " 13.0]"
      ]
     },
     "execution_count": 13,
     "metadata": {},
     "output_type": "execute_result"
    }
   ],
   "source": [
    "result_temp = temperature_rdd.map(lambda x:tempToCelcius(x))\n",
    "result_temp.collect()"
   ]
  },
  {
   "cell_type": "code",
   "execution_count": 15,
   "id": "24c7265c",
   "metadata": {},
   "outputs": [
    {
     "data": {
      "text/plain": [
       "[15.0, 14.000000000000002, 13.0, 13.0]"
      ]
     },
     "execution_count": 15,
     "metadata": {},
     "output_type": "execute_result"
    }
   ],
   "source": [
    "filter_temp_rdd = result_temp.filter(lambda x : x>=13)\n",
    "filter_temp_rdd.collect()"
   ]
  },
  {
   "cell_type": "code",
   "execution_count": null,
   "id": "e1574ab3",
   "metadata": {},
   "outputs": [],
   "source": []
  }
 ],
 "metadata": {
  "kernelspec": {
   "display_name": "Python 3 (ipykernel)",
   "language": "python",
   "name": "python3"
  },
  "language_info": {
   "codemirror_mode": {
    "name": "ipython",
    "version": 3
   },
   "file_extension": ".py",
   "mimetype": "text/x-python",
   "name": "python",
   "nbconvert_exporter": "python",
   "pygments_lexer": "ipython3",
   "version": "3.10.0"
  }
 },
 "nbformat": 4,
 "nbformat_minor": 5
}
